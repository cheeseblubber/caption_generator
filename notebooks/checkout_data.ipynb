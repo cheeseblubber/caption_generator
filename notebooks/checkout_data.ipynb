{
 "cells": [
  {
   "cell_type": "code",
   "execution_count": 2,
   "metadata": {
    "collapsed": true
   },
   "outputs": [],
   "source": [
    "import numpy as np\n",
    "import pandas as pd"
   ]
  },
  {
   "cell_type": "code",
   "execution_count": 4,
   "metadata": {
    "collapsed": true
   },
   "outputs": [],
   "source": [
    "data = pd.read_json(\"caption_generation/dataset_coco.json\")"
   ]
  },
  {
   "cell_type": "code",
   "execution_count": 16,
   "metadata": {
    "collapsed": true
   },
   "outputs": [],
   "source": [
    "row_0 = data.iloc[0]"
   ]
  },
  {
   "cell_type": "code",
   "execution_count": 21,
   "metadata": {},
   "outputs": [
    {
     "data": {
      "text/plain": [
       "{u'cocoid': 391895,\n",
       " u'filename': u'COCO_val2014_000000391895.jpg',\n",
       " u'filepath': u'val2014',\n",
       " u'imgid': 0,\n",
       " u'sentences': [{u'imgid': 0,\n",
       "   u'raw': u'A man with a red helmet on a small moped on a dirt road. ',\n",
       "   u'sentid': 770337,\n",
       "   u'tokens': [u'a',\n",
       "    u'man',\n",
       "    u'with',\n",
       "    u'a',\n",
       "    u'red',\n",
       "    u'helmet',\n",
       "    u'on',\n",
       "    u'a',\n",
       "    u'small',\n",
       "    u'moped',\n",
       "    u'on',\n",
       "    u'a',\n",
       "    u'dirt',\n",
       "    u'road']},\n",
       "  {u'imgid': 0,\n",
       "   u'raw': u'Man riding a motor bike on a dirt road on the countryside.',\n",
       "   u'sentid': 771687,\n",
       "   u'tokens': [u'man',\n",
       "    u'riding',\n",
       "    u'a',\n",
       "    u'motor',\n",
       "    u'bike',\n",
       "    u'on',\n",
       "    u'a',\n",
       "    u'dirt',\n",
       "    u'road',\n",
       "    u'on',\n",
       "    u'the',\n",
       "    u'countryside']},\n",
       "  {u'imgid': 0,\n",
       "   u'raw': u'A man riding on the back of a motorcycle.',\n",
       "   u'sentid': 772707,\n",
       "   u'tokens': [u'a',\n",
       "    u'man',\n",
       "    u'riding',\n",
       "    u'on',\n",
       "    u'the',\n",
       "    u'back',\n",
       "    u'of',\n",
       "    u'a',\n",
       "    u'motorcycle']},\n",
       "  {u'imgid': 0,\n",
       "   u'raw': u'A dirt path with a young person on a motor bike rests to the foreground of a verdant area with a bridge and a background of cloud-wreathed mountains. ',\n",
       "   u'sentid': 776154,\n",
       "   u'tokens': [u'a',\n",
       "    u'dirt',\n",
       "    u'path',\n",
       "    u'with',\n",
       "    u'a',\n",
       "    u'young',\n",
       "    u'person',\n",
       "    u'on',\n",
       "    u'a',\n",
       "    u'motor',\n",
       "    u'bike',\n",
       "    u'rests',\n",
       "    u'to',\n",
       "    u'the',\n",
       "    u'foreground',\n",
       "    u'of',\n",
       "    u'a',\n",
       "    u'verdant',\n",
       "    u'area',\n",
       "    u'with',\n",
       "    u'a',\n",
       "    u'bridge',\n",
       "    u'and',\n",
       "    u'a',\n",
       "    u'background',\n",
       "    u'of',\n",
       "    u'cloud',\n",
       "    u'wreathed',\n",
       "    u'mountains']},\n",
       "  {u'imgid': 0,\n",
       "   u'raw': u'A man in a red shirt and a red hat is on a motorcycle on a hill side.',\n",
       "   u'sentid': 781998,\n",
       "   u'tokens': [u'a',\n",
       "    u'man',\n",
       "    u'in',\n",
       "    u'a',\n",
       "    u'red',\n",
       "    u'shirt',\n",
       "    u'and',\n",
       "    u'a',\n",
       "    u'red',\n",
       "    u'hat',\n",
       "    u'is',\n",
       "    u'on',\n",
       "    u'a',\n",
       "    u'motorcycle',\n",
       "    u'on',\n",
       "    u'a',\n",
       "    u'hill',\n",
       "    u'side']}],\n",
       " u'sentids': [770337, 771687, 772707, 776154, 781998],\n",
       " u'split': u'test'}"
      ]
     },
     "execution_count": 21,
     "metadata": {},
     "output_type": "execute_result"
    }
   ],
   "source": [
    "row_0.images.img"
   ]
  },
  {
   "cell_type": "code",
   "execution_count": null,
   "metadata": {
    "collapsed": true
   },
   "outputs": [],
   "source": [
    "[{\"file_path\": \"images/1390-clothes.jpg\", \"captions\": [\"two men walking down the street\"] }]\n",
    "\n"
   ]
  }
 ],
 "metadata": {
  "kernelspec": {
   "display_name": "Python 2",
   "language": "python",
   "name": "python2"
  },
  "language_info": {
   "codemirror_mode": {
    "name": "ipython",
    "version": 2
   },
   "file_extension": ".py",
   "mimetype": "text/x-python",
   "name": "python",
   "nbconvert_exporter": "python",
   "pygments_lexer": "ipython2",
   "version": "2.7.12"
  }
 },
 "nbformat": 4,
 "nbformat_minor": 2
}
